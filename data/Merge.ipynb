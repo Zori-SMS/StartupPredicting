{
 "cells": [
  {
   "cell_type": "code",
   "execution_count": 26,
   "metadata": {
    "collapsed": true
   },
   "outputs": [],
   "source": [
    "import pandas as pd\n",
    "\n",
    "df_acquiring = pd.read_csv('./df_acquiring.csv')\n",
    "df_acquired = pd.read_csv('./df_acquired.csv')\n",
    "df_funding = pd.read_csv('./df_funding.csv')\n",
    "df_ipo = pd.read_csv('./df_ipo.csv')\n",
    "\n",
    "df_milestone = pd.read_csv(\"sentimented_milestone.csv\")\n",
    "df_product = pd.read_csv(\"cleaned_product.csv\")\n",
    "\n",
    "\n",
    "df = pd.read_csv(\"sample-results.csv\")\n",
    "\n",
    "df_acquired[\"acquired_time_since_founded\"] = df_acquired[\"acquired_time_since_founded\"].apply(\n",
    "    lambda x : int(x[1:-2]))\n",
    "\n",
    "\n"
   ]
  },
  {
   "cell_type": "code",
   "execution_count": 27,
   "metadata": {},
   "outputs": [
    {
     "name": "stdout",
     "output_type": "stream",
     "text": [
      "Acquired Records: 4832\n",
      "for 4728 companies\n"
     ]
    }
   ],
   "source": [
    "df_acquired[\"acquired_id\"] = pd.Series(range(df_acquired.shape[0]))\n",
    "df_acquired_summary = df_acquired[[\"acquired_object_id\", \"acquired_id\"]]\n",
    "df_acquired_summary\n",
    "acquired_dict = dict()\n",
    "for row in df_acquired_summary.itertuples():\n",
    "    acquired_dict[row[1]] = acquired_dict.get(row[1], [])+ [int(row[2])]\n",
    "\n",
    "print(\"Acquired Records:\", df_acquired.shape[0])\n",
    "print(\"for\", len(acquired_dict), \"companies\") \n"
   ]
  },
  {
   "cell_type": "code",
   "execution_count": 28,
   "metadata": {},
   "outputs": [
    {
     "name": "stdout",
     "output_type": "stream",
     "text": [
      "Acquiring Records: 4130\n",
      "for 2043 companies\n"
     ]
    }
   ],
   "source": [
    "df_acquiring\n",
    "df_acquiring[\"acquiring_index\"] = pd.Series(range(df_acquiring.shape[0]))\n",
    "\n",
    "\n",
    "acquiring_dict = dict()\n",
    "for row in df_acquiring.itertuples():\n",
    "    acquiring_dict[row[1]] = acquiring_dict.get(row[1], [])+ [int(row[15])]\n",
    "    \n",
    "    \n",
    "acquiring_dict \n",
    "\n",
    "\n",
    "print(\"Acquiring Records:\", df_acquiring.shape[0])\n",
    "print(\"for\", len(acquiring_dict), \"companies\")  "
   ]
  },
  {
   "cell_type": "code",
   "execution_count": 29,
   "metadata": {},
   "outputs": [
    {
     "name": "stdout",
     "output_type": "stream",
     "text": [
      "Funding Records: 25854\n",
      "for 16778 companies\n"
     ]
    }
   ],
   "source": [
    "# df_funding\n",
    "df_funding[\"funding_index\"] = pd.Series(range(df_funding.shape[0]))\n",
    "\n",
    "\n",
    "funding_dict = dict()\n",
    "for row in df_funding.itertuples():\n",
    "    funding_dict[row[2]] = funding_dict.get(row[1], [])+ [int(row[16])]\n",
    "    \n",
    "    \n",
    "funding_dict\n",
    "\n",
    "print(\"Funding Records:\", df_funding.shape[0])\n",
    "print(\"for\", len(funding_dict), \"companies\") "
   ]
  },
  {
   "cell_type": "code",
   "execution_count": 30,
   "metadata": {},
   "outputs": [
    {
     "name": "stdout",
     "output_type": "stream",
     "text": [
      "IPO Records: 705\n",
      "for 704 companies\n"
     ]
    }
   ],
   "source": [
    "df_ipo[\"ipo_index\"] = pd.Series(range(df_ipo.shape[0]))\n",
    "\n",
    "\n",
    "ipo_dict = dict()\n",
    "for row in df_ipo.itertuples():\n",
    "    ipo_dict[row[2]] = ipo_dict.get(row[1], [])+ [int(row[4])]\n",
    "    \n",
    "    \n",
    "for value in ipo_dict.values():\n",
    "    if len(value) > 1:\n",
    "        print(value)\n",
    "        \n",
    "print(\"IPO Records:\", df_ipo.shape[0])\n",
    "print(\"for\", len(ipo_dict), \"companies\") "
   ]
  },
  {
   "cell_type": "code",
   "execution_count": 31,
   "metadata": {},
   "outputs": [
    {
     "name": "stdout",
     "output_type": "stream",
     "text": [
      "Milestone Records: 22923\n",
      "for 8981 companies\n"
     ]
    }
   ],
   "source": [
    "df_milestone\n",
    "\n",
    "df_milestone[\"milestone_index\"] = pd.Series(range(df_milestone.shape[0]))\n",
    "\n",
    "\n",
    "milstone_dict = dict()\n",
    "for row in df_milestone.itertuples():\n",
    "    milstone_dict[row[3]] = milstone_dict.get(row[1], [])+ [int(row[13])]\n",
    "    \n",
    "    \n",
    "print(\"Milestone Records:\", df_milestone.shape[0])\n",
    "print(\"for\", len(milstone_dict), \"companies\") "
   ]
  },
  {
   "cell_type": "code",
   "execution_count": 32,
   "metadata": {},
   "outputs": [
    {
     "name": "stdout",
     "output_type": "stream",
     "text": [
      "Product Records: 22979\n",
      "for 9763 companies\n"
     ]
    }
   ],
   "source": [
    "df_product\n",
    "\n",
    "\n",
    "df_product[\"ipo_index\"] = pd.Series(range(df_product.shape[0]))\n",
    "\n",
    "\n",
    "product_dict = dict()\n",
    "for row in df_product.itertuples():\n",
    "    product_dict[row[2]] = product_dict.get(row[1], [])+ [int(row[13])]\n",
    "    \n",
    "    \n",
    "    \n",
    "print(\"Product Records:\", df_product.shape[0])\n",
    "print(\"for\", len(product_dict), \"companies\") "
   ]
  },
  {
   "cell_type": "code",
   "execution_count": 36,
   "metadata": {},
   "outputs": [
    {
     "name": "stdout",
     "output_type": "stream",
     "text": [
      "#Companies that has further investments: 20408\n",
      "Milestones: 4200 out of 8981 companies are intersected with companies have further investment records\n",
      "Products: 3367 out of 9763 companies are intersected with companies have further investment records\n",
      "Acquirings: 1076 out of 2043 companies are intersected with companies have further investment records\n"
     ]
    }
   ],
   "source": [
    "dict_list = [product_dict,\n",
    "milstone_dict,\n",
    "acquiring_dict,\n",
    "acquired_dict,\n",
    "funding_dict,\n",
    "ipo_dict]\n",
    "\n",
    "keys = [\"product\",\n",
    "\"milstone\",\n",
    "\"acquiring\",\n",
    "\"acquired\",\n",
    "\"funding\",\n",
    "\"ipo\"]\n",
    "\n",
    "l = list()\n",
    "for i in range(len(dict_list)):\n",
    "    l.extend(dict_list[i])\n",
    "    \n",
    "total = set(l)\n",
    "\n",
    "\n",
    "\n",
    "funding_set = set(funding_dict.keys())\n",
    "acquired_set = set(acquired_dict.keys())\n",
    "milestone_set = set(milstone_dict.keys())\n",
    "acquiring_set = set(acquiring_dict.keys())\n",
    "ipo_set = set(ipo_dict.keys())\n",
    "product_set = set(product_dict.keys())\n",
    "\n",
    "\n",
    "further_investments = acquired_set | ipo_set | funding_set\n",
    "print(\"#Companies that has further investments:\", len(further_investments))\n",
    "print(\"Milestones:\", len(further_investments & milestone_set), \"out of\", len(milestone_set), \"companies are intersected with companies have further investment records\")\n",
    "print(\"Products:\", len(further_investments & product_set), \"out of\", len(product_set), \"companies are intersected with companies have further investment records\")\n",
    "print(\"Acquirings:\", len(further_investments & acquiring_set), \"out of\", len(acquiring_set), \"companies are intersected with companies have further investment records\")\n",
    "\n",
    "\n",
    "\n",
    "\n"
   ]
  },
  {
   "cell_type": "code",
   "execution_count": null,
   "metadata": {
    "collapsed": true
   },
   "outputs": [],
   "source": []
  }
 ],
 "metadata": {
  "kernelspec": {
   "display_name": "Python 3",
   "language": "python",
   "name": "python3"
  },
  "language_info": {
   "codemirror_mode": {
    "name": "ipython",
    "version": 3
   },
   "file_extension": ".py",
   "mimetype": "text/x-python",
   "name": "python",
   "nbconvert_exporter": "python",
   "pygments_lexer": "ipython3",
   "version": "3.6.2"
  }
 },
 "nbformat": 4,
 "nbformat_minor": 2
}
